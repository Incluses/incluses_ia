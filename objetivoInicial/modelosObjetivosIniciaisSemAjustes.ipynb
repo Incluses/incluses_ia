{
 "cells": [
  {
   "cell_type": "markdown",
   "metadata": {},
   "source": [
    "# Análise de Dados 🤖\n",
    "Esse notebook apresenta nossas tentivas e observações iniciais sobre o modelo de dados. \n",
    "\n",
    "--- \n",
    "\n",
    "**Conteúdo deste notebook:**\n",
    "1. Imports\n",
    "1. Conectando com a base\n",
    "1. Separação entre resposta e atributos\n",
    "1. Separação entre treino e teste\n",
    "1. Aplicando nos modelos\n"
   ]
  },
  {
   "cell_type": "markdown",
   "metadata": {},
   "source": [
    "## Imports"
   ]
  },
  {
   "cell_type": "code",
   "execution_count": null,
   "metadata": {},
   "outputs": [],
   "source": [
    "from sklearn.model_selection import train_test_split\n",
    "from sklearn.metrics import classification_report, confusion_matrix, accuracy_score\n",
    "from sklearn.neighbors import KNeighborsClassifier\n",
    "from sklearn.naive_bayes import GaussianNB\n",
    "from sklearn.tree import DecisionTreeClassifier\n",
    "import pandas as pd\n",
    "from sklearn.compose import ColumnTransformer, make_column_selector\n",
    "from sklearn.preprocessing import OrdinalEncoder,LabelEncoder\n",
    "import numpy as np\n",
    "from sklearn import tree\n",
    "import matplotlib.pyplot as plt"
   ]
  },
  {
   "cell_type": "markdown",
   "metadata": {},
   "source": [
    "## Conectando com a base"
   ]
  },
  {
   "cell_type": "code",
   "execution_count": null,
   "metadata": {},
   "outputs": [],
   "source": [
    "df = pd.read_excel('../base/incluses_tratado.xlsx')\n",
    "\n",
    "display(df.head(5))"
   ]
  },
  {
   "cell_type": "markdown",
   "metadata": {},
   "source": [
    "## Pré-processamento"
   ]
  },
  {
   "cell_type": "markdown",
   "metadata": {},
   "source": [
    "### Separando atributos da resposta"
   ]
  },
  {
   "cell_type": "code",
   "execution_count": null,
   "metadata": {},
   "outputs": [],
   "source": [
    "df_resposta = df['Finalidade do Uso do App Incluses']\n",
    "df_atributo = df.iloc[:, :-1]"
   ]
  },
  {
   "cell_type": "markdown",
   "metadata": {},
   "source": [
    "### Transformando colunas quantitativas em qualitativas"
   ]
  },
  {
   "cell_type": "code",
   "execution_count": null,
   "metadata": {},
   "outputs": [],
   "source": [
    "#Resposta\n",
    "label_encoder = LabelEncoder()\n",
    "\n",
    "#Treino\n",
    "preprocessador = ColumnTransformer(\n",
    "    transformers=[\n",
    "        ('ordinal_encoder', OrdinalEncoder(), make_column_selector(dtype_include=['object','bool'])),\n",
    "    ],\n",
    "    remainder='passthrough',\n",
    "    verbose_feature_names_out= False \n",
    ")\n",
    "\n",
    "# Aplicando o preprocessador nos atributos\n",
    "df_atributo = pd.DataFrame(preprocessador.fit_transform(df_atributo), columns=preprocessador.get_feature_names_out())"
   ]
  },
  {
   "cell_type": "markdown",
   "metadata": {},
   "source": [
    "## Separando treino e teste"
   ]
  },
  {
   "cell_type": "code",
   "execution_count": null,
   "metadata": {},
   "outputs": [],
   "source": [
    "# Divida os dados em conjuntos de treino e teste\n",
    "df_atributos_treino, df_atributos_teste, df_resposta_treino, df_resposta_teste = train_test_split(df_atributo, df_resposta, test_size=0.25, random_state=42)\n",
    "\n",
    "# Converta para arrays\n",
    "atributos_treino = df_atributos_treino.values\n",
    "resposta_treino = df_resposta_treino.values\n",
    "atributos_teste = df_atributos_teste.values\n",
    "resposta_teste = df_resposta_teste.values"
   ]
  },
  {
   "cell_type": "markdown",
   "metadata": {},
   "source": [
    "## Modelos"
   ]
  },
  {
   "cell_type": "markdown",
   "metadata": {},
   "source": [
    "### DecisionTreeClassifier"
   ]
  },
  {
   "cell_type": "markdown",
   "metadata": {},
   "source": [
    "#### Gini"
   ]
  },
  {
   "cell_type": "markdown",
   "metadata": {},
   "source": [
    "##### Testando com dados de teste"
   ]
  },
  {
   "cell_type": "code",
   "execution_count": null,
   "metadata": {},
   "outputs": [],
   "source": [
    "\n",
    "classificador_tree = tree.DecisionTreeClassifier(\n",
    "        criterion='gini', \n",
    "    )\n",
    "\n",
    "classificador_tree.fit(atributos_treino, resposta_treino)\n",
    "\n",
    "# Faça previsões no conjunto de teste\n",
    "previsoes = classificador_tree.predict(atributos_teste)\n",
    "\n",
    "# Avalie o desempenho do modelo\n",
    "acuracia = accuracy_score(resposta_teste, previsoes)\n",
    "print(f'Acurácia no conjunto de teste: {acuracia:.4f}')\n",
    "\n",
    "report_classificacao = classification_report(resposta_teste, previsoes)\n",
    "print(report_classificacao)\n",
    "\n",
    "matriz_de_confusao = confusion_matrix(resposta_teste, previsoes)\n",
    "print(\"Matriz de Confusão:\")\n",
    "print(matriz_de_confusao)\n",
    "\n",
    "plt.figure(figsize=(30,7))\n",
    "tree.plot_tree(classificador_tree, feature_names=df_atributo.columns, class_names=classificador_tree.classes_, filled=True)\n",
    "plt.show()"
   ]
  },
  {
   "cell_type": "markdown",
   "metadata": {},
   "source": [
    "##### Testando com dados de treino"
   ]
  },
  {
   "cell_type": "code",
   "execution_count": null,
   "metadata": {},
   "outputs": [],
   "source": [
    "\n",
    "classificador_tree = tree.DecisionTreeClassifier(\n",
    "        criterion='gini', \n",
    "    )\n",
    "\n",
    "classificador_tree.fit(atributos_treino, resposta_treino)\n",
    "\n",
    "# Faça previsões no conjunto de teste\n",
    "previsoes = classificador_tree.predict(atributos_treino)\n",
    "\n",
    "# Avalie o desempenho do modelo\n",
    "acuracia = accuracy_score(resposta_treino, previsoes)\n",
    "print(f'Acurácia no conjunto de treino: {acuracia:.4f}')\n",
    "\n",
    "report_classificacao = classification_report(resposta_treino, previsoes)\n",
    "print(report_classificacao)\n",
    "\n",
    "matriz_de_confusao = confusion_matrix(resposta_treino, previsoes)\n",
    "print(\"Matriz de Confusão:\")\n",
    "print(matriz_de_confusao)\n",
    "\n",
    "plt.figure(figsize=(30,7))\n",
    "tree.plot_tree(classificador_tree, feature_names=df_atributo.columns, class_names=classificador_tree.classes_, filled=True)\n",
    "plt.show()"
   ]
  },
  {
   "cell_type": "markdown",
   "metadata": {},
   "source": [
    "#### Entropia"
   ]
  },
  {
   "cell_type": "markdown",
   "metadata": {},
   "source": [
    "##### Testando com dados de teste"
   ]
  },
  {
   "cell_type": "code",
   "execution_count": null,
   "metadata": {},
   "outputs": [],
   "source": [
    "\n",
    "classificador_tree = tree.DecisionTreeClassifier(\n",
    "        criterion='entropy', \n",
    "    )\n",
    "\n",
    "classificador_tree.fit(atributos_treino, resposta_treino)\n",
    "\n",
    "# Faça previsões no conjunto de teste\n",
    "previsoes = classificador_tree.predict(atributos_teste)\n",
    "\n",
    "# Avalie o desempenho do modelo\n",
    "acuracia = accuracy_score(resposta_teste, previsoes)\n",
    "print(f'Acurácia no conjunto de teste: {acuracia:.4f}')\n",
    "\n",
    "report_classificacao = classification_report(resposta_teste, previsoes)\n",
    "print(report_classificacao)\n",
    "\n",
    "matriz_de_confusao = confusion_matrix(resposta_teste, previsoes)\n",
    "print(\"Matriz de Confusão:\")\n",
    "print(matriz_de_confusao)\n",
    "\n",
    "plt.figure(figsize=(30,7))\n",
    "tree.plot_tree(classificador_tree, feature_names=df_atributo.columns, class_names=classificador_tree.classes_, filled=True)\n",
    "plt.show()"
   ]
  },
  {
   "cell_type": "markdown",
   "metadata": {},
   "source": [
    "##### Testando com dados de treino"
   ]
  },
  {
   "cell_type": "code",
   "execution_count": null,
   "metadata": {},
   "outputs": [],
   "source": [
    "\n",
    "classificador_tree = tree.DecisionTreeClassifier(\n",
    "        criterion='entropy', \n",
    "    )\n",
    "\n",
    "classificador_tree.fit(atributos_treino, resposta_treino)\n",
    "\n",
    "# Faça previsões no conjunto de teste\n",
    "previsoes = classificador_tree.predict(atributos_treino)\n",
    "\n",
    "# Avalie o desempenho do modelo\n",
    "acuracia = accuracy_score(resposta_treino, previsoes)\n",
    "print(f'Acurácia no conjunto de teste: {acuracia:.4f}')\n",
    "\n",
    "report_classificacao = classification_report(resposta_treino, previsoes)\n",
    "print(report_classificacao)\n",
    "\n",
    "matriz_de_confusao = confusion_matrix(resposta_treino, previsoes)\n",
    "print(\"Matriz de Confusão:\")\n",
    "print(matriz_de_confusao)\n",
    "\n",
    "plt.figure(figsize=(30,7))\n",
    "tree.plot_tree(classificador_tree, feature_names=df_atributo.columns, class_names=classificador_tree.classes_, filled=True)\n",
    "plt.show()"
   ]
  },
  {
   "cell_type": "markdown",
   "metadata": {},
   "source": [
    "### KNeighborsClassifier"
   ]
  },
  {
   "cell_type": "markdown",
   "metadata": {},
   "source": [
    "##### Testando com dados de teste"
   ]
  },
  {
   "cell_type": "code",
   "execution_count": null,
   "metadata": {},
   "outputs": [],
   "source": [
    "classificador_knn = KNeighborsClassifier()\n",
    "\n",
    "classificador_knn.fit(atributos_treino, resposta_treino)\n",
    "\n",
    "# Faça previsões no conjunto de teste\n",
    "previsoes = classificador_knn.predict(atributos_teste)\n",
    "\n",
    "# Avaliação do modelo\n",
    "taxa_de_acerto = accuracy_score(resposta_teste, previsoes)\n",
    "print(\"Taxa de acerto:\", round(taxa_de_acerto * 100, 2))\n",
    "\n",
    "report_classificacao = classification_report(resposta_teste, previsoes)\n",
    "print(report_classificacao)\n",
    "\n",
    "matriz_de_confusao = confusion_matrix(resposta_teste, previsoes)\n",
    "print(\"Matriz de Confusão:\")\n",
    "print(matriz_de_confusao)"
   ]
  },
  {
   "cell_type": "markdown",
   "metadata": {},
   "source": [
    "##### Testando com dados de treino"
   ]
  },
  {
   "cell_type": "code",
   "execution_count": null,
   "metadata": {},
   "outputs": [],
   "source": [
    "classificador_knn = KNeighborsClassifier()\n",
    "\n",
    "classificador_knn.fit(atributos_treino, resposta_treino)\n",
    "\n",
    "# Faça previsões no conjunto de treino\n",
    "previsoes = classificador_knn.predict(atributos_treino)\n",
    "\n",
    "# Avaliação do modelo\n",
    "taxa_de_acerto = accuracy_score(resposta_treino, previsoes)\n",
    "print(\"Taxa de acerto:\", round(taxa_de_acerto * 100, 2))\n",
    "\n",
    "report_classificacao = classification_report(resposta_treino, previsoes)\n",
    "print(report_classificacao)\n",
    "\n",
    "matriz_de_confusao = confusion_matrix(resposta_treino, previsoes)\n",
    "print(\"Matriz de Confusão:\")\n",
    "print(matriz_de_confusao)"
   ]
  },
  {
   "cell_type": "markdown",
   "metadata": {},
   "source": [
    "### GaussianNB"
   ]
  },
  {
   "cell_type": "markdown",
   "metadata": {},
   "source": [
    "##### Testando com dados de teste"
   ]
  },
  {
   "cell_type": "code",
   "execution_count": null,
   "metadata": {},
   "outputs": [],
   "source": [
    "\n",
    "classificador_bayes = GaussianNB()\n",
    "\n",
    "classificador_bayes.fit(atributos_treino, resposta_treino)\n",
    "\n",
    "# Faça previsões no conjunto de teste\n",
    "previsoes = classificador_bayes.predict(atributos_teste)\n",
    "\n",
    "# Avaliação do modelo\n",
    "taxa_de_acerto = accuracy_score(resposta_teste, previsoes)\n",
    "print(\"Taxa de acerto:\", round(taxa_de_acerto * 100, 2))\n",
    "\n",
    "report_classificacao = classification_report(resposta_teste, previsoes)\n",
    "print(report_classificacao)\n",
    "\n",
    "matriz_de_confusao = confusion_matrix(resposta_teste, previsoes)\n",
    "print(\"Matriz de Confusão:\")\n",
    "print(matriz_de_confusao)"
   ]
  },
  {
   "cell_type": "markdown",
   "metadata": {},
   "source": [
    "##### Testando com dados de treino"
   ]
  },
  {
   "cell_type": "code",
   "execution_count": null,
   "metadata": {},
   "outputs": [],
   "source": [
    "\n",
    "classificador_bayes = GaussianNB()\n",
    "\n",
    "classificador_bayes.fit(atributos_treino, resposta_treino)\n",
    "\n",
    "# Faça previsões no conjunto de treino\n",
    "previsoes = classificador_bayes.predict(atributos_treino)\n",
    "\n",
    "# Avaliação do modelo\n",
    "taxa_de_acerto = accuracy_score(resposta_treino, previsoes)\n",
    "print(\"Taxa de acerto:\", round(taxa_de_acerto * 100, 2))\n",
    "\n",
    "report_classificacao = classification_report(resposta_treino, previsoes)\n",
    "print(report_classificacao)\n",
    "\n",
    "matriz_de_confusao = confusion_matrix(resposta_treino, previsoes)\n",
    "print(\"Matriz de Confusão:\")\n",
    "print(matriz_de_confusao)"
   ]
  }
 ],
 "metadata": {
  "kernelspec": {
   "display_name": "Python 3",
   "language": "python",
   "name": "python3"
  },
  "language_info": {
   "codemirror_mode": {
    "name": "ipython",
    "version": 3
   },
   "file_extension": ".py",
   "mimetype": "text/x-python",
   "name": "python",
   "nbconvert_exporter": "python",
   "pygments_lexer": "ipython3",
   "version": "3.11.9"
  }
 },
 "nbformat": 4,
 "nbformat_minor": 2
}
