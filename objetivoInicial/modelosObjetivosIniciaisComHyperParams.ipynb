{
 "cells": [
  {
   "cell_type": "markdown",
   "metadata": {},
   "source": [
    "# Análise de Dados 🤖\n",
    "Esse notebook apresenta nossas tentivas e observações iniciais sobre o modelo de dados. \n",
    "\n",
    "--- \n",
    "\n",
    "**Conteúdo deste notebook:**\n",
    "1. Imports\n",
    "1. Conectando com a base\n",
    "1. Separação entre resposta e atributos\n",
    "1. Separação entre treino e teste\n",
    "1. Aplicando nos modelos\n"
   ]
  },
  {
   "cell_type": "markdown",
   "metadata": {},
   "source": [
    "## Imports"
   ]
  },
  {
   "cell_type": "code",
   "execution_count": null,
   "metadata": {},
   "outputs": [],
   "source": [
    "from sklearn.model_selection import train_test_split, GridSearchCV, KFold\n",
    "from sklearn.metrics import classification_report, confusion_matrix, accuracy_score\n",
    "from sklearn.neighbors import KNeighborsClassifier\n",
    "from sklearn.naive_bayes import GaussianNB\n",
    "from sklearn.tree import DecisionTreeClassifier\n",
    "import pandas as pd\n",
    "from sklearn.compose import ColumnTransformer, make_column_selector\n",
    "from sklearn.preprocessing import OrdinalEncoder,LabelEncoder\n",
    "import numpy as np\n",
    "from sklearn import tree\n",
    "import matplotlib.pyplot as plt\n",
    "from imblearn.over_sampling import SMOTE\n",
    "from imblearn.pipeline import Pipeline \n",
    "from sklearn.ensemble import RandomForestClassifier"
   ]
  },
  {
   "cell_type": "markdown",
   "metadata": {},
   "source": [
    "## Conectando com a base"
   ]
  },
  {
   "cell_type": "code",
   "execution_count": null,
   "metadata": {},
   "outputs": [],
   "source": [
    "df = pd.read_excel('../base/incluses_tratado.xlsx')\n",
    "\n",
    "display(df.head(5))"
   ]
  },
  {
   "cell_type": "markdown",
   "metadata": {},
   "source": [
    "## Separação de resposta e atributos"
   ]
  },
  {
   "cell_type": "code",
   "execution_count": null,
   "metadata": {},
   "outputs": [],
   "source": [
    "df_resposta = df['Finalidade do Uso do App Incluses']\n",
    "df_atributo = df.iloc[:, :-1]"
   ]
  },
  {
   "cell_type": "markdown",
   "metadata": {},
   "source": [
    "## Pré-processamento"
   ]
  },
  {
   "cell_type": "markdown",
   "metadata": {},
   "source": [
    "### Transformando colunas quantitativas em qualitativas"
   ]
  },
  {
   "cell_type": "code",
   "execution_count": null,
   "metadata": {},
   "outputs": [],
   "source": [
    "#Resposta\n",
    "label_encoder = LabelEncoder()\n",
    "\n",
    "#Treino\n",
    "preprocessador = ColumnTransformer(\n",
    "    transformers=[\n",
    "        ('ordinal_encoder', OrdinalEncoder(), make_column_selector(dtype_include=['object','bool'])),\n",
    "    ],\n",
    "    remainder='passthrough',\n",
    "    verbose_feature_names_out= False \n",
    ")\n",
    "\n",
    "# Aplicando o preprocessador nos atributos\n",
    "df_atributo = pd.DataFrame(preprocessador.fit_transform(df_atributo), columns=preprocessador.get_feature_names_out())"
   ]
  },
  {
   "cell_type": "markdown",
   "metadata": {},
   "source": [
    "## Definindo Pipeline incluindo SMOTE"
   ]
  },
  {
   "cell_type": "code",
   "execution_count": null,
   "metadata": {},
   "outputs": [],
   "source": [
    "# Definir o modelo base\n",
    "model = RandomForestClassifier(random_state=42)\n",
    "\n",
    "# Definir a pipeline incluindo o SMOTE e o modelo\n",
    "pipeline = Pipeline([\n",
    "    ('smote', SMOTE(random_state=42, k_neighbors=1)),\n",
    "    ('classifier', model)\n",
    "])"
   ]
  },
  {
   "cell_type": "markdown",
   "metadata": {},
   "source": [
    "## GridSearchV"
   ]
  },
  {
   "cell_type": "markdown",
   "metadata": {},
   "source": [
    "### Configurando Cross-validation "
   ]
  },
  {
   "cell_type": "code",
   "execution_count": null,
   "metadata": {},
   "outputs": [],
   "source": [
    "# Validação cruzada estratificada\n",
    "cv = KFold(n_splits=8)"
   ]
  },
  {
   "cell_type": "markdown",
   "metadata": {},
   "source": [
    "### Configurando parâmetros para o GridSearchCV"
   ]
  },
  {
   "cell_type": "code",
   "execution_count": null,
   "metadata": {},
   "outputs": [],
   "source": [
    "# Definindo os classificadores\n",
    "classifiers = {\n",
    "    'knn': KNeighborsClassifier(),\n",
    "    'naive_bayes': GaussianNB(),\n",
    "    'decision_tree': DecisionTreeClassifier()\n",
    "}\n",
    "\n",
    "# Definindo o grid de hiperparâmetros para problemas multiclasse\n",
    "param_grid = [\n",
    "    {  # Parâmetros para KNeighborsClassifier\n",
    "        'classifier': [KNeighborsClassifier()],\n",
    "        'classifier__n_neighbors': np.arange(1, 7, 1),\n",
    "    },\n",
    "    {  # Parâmetros para GaussianNB\n",
    "        'classifier': [GaussianNB()],\n",
    "        'classifier__var_smoothing': np.logspace(0, 100, num=50),  # Ajuste de range para var_smoothing\n",
    "    },\n",
    "    {  # Parâmetros para DecisionTreeClassifier\n",
    "        'classifier': [DecisionTreeClassifier(random_state=12)],\n",
    "        'classifier__criterion': ['gini', 'entropy'],\n",
    "        'classifier__splitter': ['best', 'random'],\n",
    "        'classifier__max_depth': [None, 2, 4, 6, 8, 10, 12],\n",
    "        'classifier__min_samples_split': [2, 5, 10, None],\n",
    "        'classifier__min_samples_leaf': [1, 2, 5, 10, None],\n",
    "        'classifier__max_features': [None, 'sqrt', 'log2'],\n",
    "    }\n",
    "]"
   ]
  },
  {
   "cell_type": "markdown",
   "metadata": {},
   "source": [
    "### Definindo melhores parâmetros com GridSearchCV"
   ]
  },
  {
   "cell_type": "code",
   "execution_count": null,
   "metadata": {},
   "outputs": [],
   "source": [
    "# Variáveis para armazenar os melhores resultados para cada classificador\n",
    "best_results = {\n",
    "    'KNeighborsClassifier': {'best_test_size': None, 'best_score': -float('inf'), 'best_parameters': None},\n",
    "    'GaussianNB': {'best_test_size': None, 'best_score': -float('inf'), 'best_parameters': None},\n",
    "    'DecisionTreeClassifier': {'best_test_size': None, 'best_score': -float('inf'), 'best_parameters': None}\n",
    "}\n",
    "\n",
    "# Dividir o conjunto de dados\n",
    "X_train, X_test, y_train, y_test = train_test_split(df_atributo, df_resposta, test_size=0.25, random_state=42)\n",
    "\n",
    "# Iterar sobre cada classificador e grid de hiperparâmetros\n",
    "for grid in param_grid:\n",
    "\n",
    "    # Ajustar o GridSearchCV\n",
    "    grid_search = GridSearchCV(pipeline, grid, cv=cv, scoring='accuracy', n_jobs=-1)\n",
    "    grid_search.fit(X_train, y_train)\n",
    "\n",
    "    # Prever no conjunto de teste\n",
    "    y_pred = grid_search.predict(X_test)\n",
    "\n",
    "    # Calcular a acurácia\n",
    "    score = accuracy_score(y_test, y_pred)\n",
    "\n",
    "    # Identificar o classificador utilizado\n",
    "    classifier_name = grid_search.best_estimator_.named_steps['classifier'].__class__.__name__\n",
    "\n",
    "    # Verificar se esta iteração tem o melhor resultado para este classificador\n",
    "    if score > best_results[classifier_name]['best_score']:\n",
    "        best_results[classifier_name]['best_score'] = score\n",
    "        best_results[classifier_name]['best_test_size'] = 0.25\n",
    "        best_results[classifier_name]['best_parameters'] = grid_search.best_params_\n"
   ]
  },
  {
   "cell_type": "markdown",
   "metadata": {},
   "source": [
    "### Vendo melhores parâmetros"
   ]
  },
  {
   "cell_type": "code",
   "execution_count": null,
   "metadata": {},
   "outputs": [],
   "source": [
    "# Exibir os melhores resultados por modelo\n",
    "for classifier, result in best_results.items():\n",
    "    print(f\"{classifier}: Acurácia = {result['best_score']}, \\nParâmetros = {result['best_parameters']}\\n\")"
   ]
  },
  {
   "cell_type": "markdown",
   "metadata": {},
   "source": [
    "## Balanceando classes com SMOTE"
   ]
  },
  {
   "cell_type": "code",
   "execution_count": null,
   "metadata": {},
   "outputs": [],
   "source": [
    "# Aplicando o smote\n",
    "smote = SMOTE(random_state=42, k_neighbors=1)\n",
    "df_atributo, df_resposta = smote.fit_resample(df_atributo, df_resposta)\n",
    "\n",
    "#Descobindo o tamanho da base\n",
    "print(f'Tamanho da base com SMOTE: {len(df_atributo)}')"
   ]
  },
  {
   "cell_type": "markdown",
   "metadata": {},
   "source": [
    "## Separando dados entre treino e teste"
   ]
  },
  {
   "cell_type": "code",
   "execution_count": null,
   "metadata": {},
   "outputs": [],
   "source": [
    "# Divida os dados em conjuntos de treino e teste\n",
    "df_atributos_treino, df_atributos_teste, df_resposta_treino, df_resposta_teste = train_test_split(df_atributo, df_resposta, test_size=0.25, random_state=42)\n",
    "\n",
    "# Converta para arrays\n",
    "atributos_treino = df_atributos_treino.values\n",
    "resposta_treino = df_resposta_treino.values\n",
    "atributos_teste = df_atributos_teste.values\n",
    "resposta_teste = df_resposta_teste.values"
   ]
  },
  {
   "cell_type": "markdown",
   "metadata": {},
   "source": [
    "## Modelos"
   ]
  },
  {
   "cell_type": "markdown",
   "metadata": {},
   "source": [
    "### DecisionTreeClassifier"
   ]
  },
  {
   "cell_type": "markdown",
   "metadata": {},
   "source": [
    "#### Gini"
   ]
  },
  {
   "cell_type": "markdown",
   "metadata": {},
   "source": [
    "##### Testando com valores de teste"
   ]
  },
  {
   "cell_type": "code",
   "execution_count": null,
   "metadata": {},
   "outputs": [],
   "source": [
    "classificador_tree = tree.DecisionTreeClassifier(\n",
    "        criterion='gini', \n",
    "        min_samples_leaf= 1,\n",
    "        min_samples_split= 2,\n",
    "        splitter= 'best'\n",
    "    )\n",
    "\n",
    "classificador_tree.fit(atributos_treino, resposta_treino)\n",
    "\n",
    "# Faça previsões no conjunto de teste\n",
    "previsoes = classificador_tree.predict(atributos_teste)\n",
    "\n",
    "# Avalie o desempenho do modelo\n",
    "acuracia = accuracy_score(resposta_teste, previsoes)\n",
    "print(f'Acurácia no conjunto de teste: {acuracia:.4f}')\n",
    "\n",
    "report_classificacao = classification_report(resposta_teste, previsoes)\n",
    "print(report_classificacao)\n",
    "\n",
    "matriz_de_confusao = confusion_matrix(resposta_teste, previsoes)\n",
    "print(\"Matriz de Confusão:\")\n",
    "print(matriz_de_confusao)\n",
    "\n",
    "plt.figure(figsize=(30,7))\n",
    "tree.plot_tree(classificador_tree, feature_names=df_atributo.columns, class_names=classificador_tree.classes_, filled=True)\n",
    "plt.show()"
   ]
  },
  {
   "cell_type": "markdown",
   "metadata": {},
   "source": [
    "##### Testando com valores de treino"
   ]
  },
  {
   "cell_type": "code",
   "execution_count": null,
   "metadata": {},
   "outputs": [],
   "source": [
    "classificador_tree = tree.DecisionTreeClassifier(\n",
    "        criterion='gini', \n",
    "        min_samples_leaf= 1,\n",
    "        min_samples_split= 2,\n",
    "        splitter= 'best'\n",
    "    )\n",
    "\n",
    "classificador_tree.fit(atributos_treino, resposta_treino)\n",
    "\n",
    "# Faça previsões no conjunto de treino\n",
    "previsoes = classificador_tree.predict(atributos_treino)\n",
    "\n",
    "# Avalie o desempenho do modelo\n",
    "acuracia = accuracy_score(resposta_treino, previsoes)\n",
    "print(f'Acurácia no conjunto de treino: {acuracia:.4f}')\n",
    "\n",
    "report_classificacao = classification_report(resposta_treino, previsoes)\n",
    "print(report_classificacao)\n",
    "\n",
    "matriz_de_confusao = confusion_matrix(resposta_treino, previsoes)\n",
    "print(\"Matriz de Confusão:\")\n",
    "print(matriz_de_confusao)\n",
    "\n",
    "plt.figure(figsize=(30,7))\n",
    "tree.plot_tree(classificador_tree, feature_names=df_atributo.columns, class_names=classificador_tree.classes_, filled=True)\n",
    "plt.show()"
   ]
  },
  {
   "cell_type": "markdown",
   "metadata": {},
   "source": [
    "### KNeighborsClassifier"
   ]
  },
  {
   "cell_type": "markdown",
   "metadata": {},
   "source": [
    "##### Testando com valores de teste"
   ]
  },
  {
   "cell_type": "code",
   "execution_count": null,
   "metadata": {},
   "outputs": [],
   "source": [
    "classificador_knn = KNeighborsClassifier(n_neighbors= 1)\n",
    "\n",
    "classificador_knn.fit(atributos_treino, resposta_treino)\n",
    "\n",
    "# Faça previsões no conjunto de teste\n",
    "previsoes = classificador_knn.predict(atributos_teste)\n",
    "\n",
    "# Avaliação do modelo\n",
    "taxa_de_acerto = accuracy_score(resposta_teste, previsoes)\n",
    "print(\"Taxa de acerto:\", round(taxa_de_acerto * 100, 2))\n",
    "\n",
    "report_classificacao = classification_report(resposta_teste, previsoes)\n",
    "print(report_classificacao)\n",
    "\n",
    "matriz_de_confusao = confusion_matrix(resposta_teste, previsoes)\n",
    "print(\"Matriz de Confusão:\")\n",
    "print(matriz_de_confusao)"
   ]
  },
  {
   "cell_type": "markdown",
   "metadata": {},
   "source": [
    "##### Testando com valores de treino"
   ]
  },
  {
   "cell_type": "code",
   "execution_count": null,
   "metadata": {},
   "outputs": [],
   "source": [
    "classificador_knn = KNeighborsClassifier(n_neighbors= 1)\n",
    "\n",
    "classificador_knn.fit(atributos_treino, resposta_treino)\n",
    "\n",
    "# Faça previsões no conjunto de treino\n",
    "previsoes = classificador_knn.predict(atributos_treino)\n",
    "\n",
    "# Avaliação do modelo\n",
    "taxa_de_acerto = accuracy_score(resposta_treino, previsoes)\n",
    "print(\"Taxa de acerto:\", round(taxa_de_acerto * 100, 2))\n",
    "\n",
    "report_classificacao = classification_report(resposta_treino, previsoes)\n",
    "print(report_classificacao)\n",
    "\n",
    "matriz_de_confusao = confusion_matrix(resposta_treino, previsoes)\n",
    "print(\"Matriz de Confusão:\")\n",
    "print(matriz_de_confusao)"
   ]
  },
  {
   "cell_type": "markdown",
   "metadata": {},
   "source": [
    "### GaussianNB"
   ]
  },
  {
   "cell_type": "markdown",
   "metadata": {},
   "source": [
    "##### Testando com valores de teste"
   ]
  },
  {
   "cell_type": "code",
   "execution_count": null,
   "metadata": {},
   "outputs": [],
   "source": [
    "\n",
    "classificador_bayes = GaussianNB(var_smoothing= 1.0)\n",
    "\n",
    "classificador_bayes.fit(atributos_treino, resposta_treino)\n",
    "\n",
    "# Faça previsões no conjunto de teste\n",
    "previsoes = classificador_bayes.predict(atributos_teste)\n",
    "\n",
    "# Avaliação do modelo\n",
    "taxa_de_acerto = accuracy_score(resposta_teste, previsoes)\n",
    "print(\"Taxa de acerto:\", round(taxa_de_acerto * 100, 2))\n",
    "\n",
    "report_classificacao = classification_report(resposta_teste, previsoes)\n",
    "print(report_classificacao)\n",
    "\n",
    "matriz_de_confusao = confusion_matrix(resposta_teste, previsoes)\n",
    "print(\"Matriz de Confusão:\")\n",
    "print(matriz_de_confusao)"
   ]
  },
  {
   "cell_type": "markdown",
   "metadata": {},
   "source": [
    "##### Testando com valores de treino"
   ]
  },
  {
   "cell_type": "code",
   "execution_count": null,
   "metadata": {},
   "outputs": [],
   "source": [
    "\n",
    "classificador_bayes = GaussianNB(var_smoothing= 1.0)\n",
    "\n",
    "classificador_bayes.fit(atributos_treino, resposta_treino)\n",
    "\n",
    "# Faça previsões no conjunto de treino\n",
    "previsoes = classificador_bayes.predict(atributos_treino)\n",
    "\n",
    "# Avaliação do modelo\n",
    "taxa_de_acerto = accuracy_score(resposta_treino, previsoes)\n",
    "print(\"Taxa de acerto:\", round(taxa_de_acerto * 100, 2))\n",
    "\n",
    "report_classificacao = classification_report(resposta_treino, previsoes)\n",
    "print(report_classificacao)\n",
    "\n",
    "matriz_de_confusao = confusion_matrix(resposta_treino, previsoes)\n",
    "print(\"Matriz de Confusão:\")\n",
    "print(matriz_de_confusao)"
   ]
  }
 ],
 "metadata": {
  "kernelspec": {
   "display_name": "Python 3",
   "language": "python",
   "name": "python3"
  },
  "language_info": {
   "codemirror_mode": {
    "name": "ipython",
    "version": 3
   },
   "file_extension": ".py",
   "mimetype": "text/x-python",
   "name": "python",
   "nbconvert_exporter": "python",
   "pygments_lexer": "ipython3",
   "version": "3.11.9"
  }
 },
 "nbformat": 4,
 "nbformat_minor": 2
}
